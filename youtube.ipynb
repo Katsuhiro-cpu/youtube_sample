{
 "cells": [
  {
   "cell_type": "code",
   "execution_count": 1,
   "id": "892a253f-444c-48a6-90c2-5a86ef373fab",
   "metadata": {},
   "outputs": [
    {
     "name": "stdout",
     "output_type": "stream",
     "text": [
      "Collecting google-api-python-client\n",
      "  Downloading google_api_python_client-2.56.0-py2.py3-none-any.whl (8.9 MB)\n",
      "Collecting google-auth-httplib2>=0.1.0\n",
      "  Downloading google_auth_httplib2-0.1.0-py2.py3-none-any.whl (9.3 kB)\n",
      "Requirement already satisfied: google-api-core!=2.0.*,!=2.1.*,!=2.2.*,!=2.3.0,<3.0.0dev,>=1.31.5 in c:\\users\\katsuhiro\\anaconda3\\lib\\site-packages (from google-api-python-client) (2.8.2)\n",
      "Collecting uritemplate<5,>=3.0.1\n",
      "  Downloading uritemplate-4.1.1-py2.py3-none-any.whl (10 kB)\n",
      "Requirement already satisfied: google-auth<3.0.0dev,>=1.19.0 in c:\\users\\katsuhiro\\anaconda3\\lib\\site-packages (from google-api-python-client) (2.10.0)\n",
      "Collecting httplib2<1dev,>=0.15.0\n",
      "  Downloading httplib2-0.20.4-py3-none-any.whl (96 kB)\n",
      "Requirement already satisfied: requests<3.0.0dev,>=2.18.0 in c:\\users\\katsuhiro\\anaconda3\\lib\\site-packages (from google-api-core!=2.0.*,!=2.1.*,!=2.2.*,!=2.3.0,<3.0.0dev,>=1.31.5->google-api-python-client) (2.26.0)\n",
      "Requirement already satisfied: googleapis-common-protos<2.0dev,>=1.56.2 in c:\\users\\katsuhiro\\anaconda3\\lib\\site-packages (from google-api-core!=2.0.*,!=2.1.*,!=2.2.*,!=2.3.0,<3.0.0dev,>=1.31.5->google-api-python-client) (1.56.4)\n",
      "Requirement already satisfied: protobuf<5.0.0dev,>=3.15.0 in c:\\users\\katsuhiro\\anaconda3\\lib\\site-packages (from google-api-core!=2.0.*,!=2.1.*,!=2.2.*,!=2.3.0,<3.0.0dev,>=1.31.5->google-api-python-client) (3.20.1)\n",
      "Requirement already satisfied: rsa<5,>=3.1.4 in c:\\users\\katsuhiro\\anaconda3\\lib\\site-packages (from google-auth<3.0.0dev,>=1.19.0->google-api-python-client) (4.9)\n",
      "Requirement already satisfied: pyasn1-modules>=0.2.1 in c:\\users\\katsuhiro\\anaconda3\\lib\\site-packages (from google-auth<3.0.0dev,>=1.19.0->google-api-python-client) (0.2.8)\n",
      "Requirement already satisfied: six>=1.9.0 in c:\\users\\katsuhiro\\anaconda3\\lib\\site-packages (from google-auth<3.0.0dev,>=1.19.0->google-api-python-client) (1.16.0)\n",
      "Requirement already satisfied: cachetools<6.0,>=2.0.0 in c:\\users\\katsuhiro\\anaconda3\\lib\\site-packages (from google-auth<3.0.0dev,>=1.19.0->google-api-python-client) (5.2.0)\n",
      "Requirement already satisfied: pyparsing!=3.0.0,!=3.0.1,!=3.0.2,!=3.0.3,<4,>=2.4.2 in c:\\users\\katsuhiro\\anaconda3\\lib\\site-packages (from httplib2<1dev,>=0.15.0->google-api-python-client) (3.0.4)\n",
      "Requirement already satisfied: pyasn1<0.5.0,>=0.4.6 in c:\\users\\katsuhiro\\anaconda3\\lib\\site-packages (from pyasn1-modules>=0.2.1->google-auth<3.0.0dev,>=1.19.0->google-api-python-client) (0.4.8)\n",
      "Requirement already satisfied: idna<4,>=2.5 in c:\\users\\katsuhiro\\anaconda3\\lib\\site-packages (from requests<3.0.0dev,>=2.18.0->google-api-core!=2.0.*,!=2.1.*,!=2.2.*,!=2.3.0,<3.0.0dev,>=1.31.5->google-api-python-client) (3.2)\n",
      "Requirement already satisfied: charset-normalizer~=2.0.0 in c:\\users\\katsuhiro\\anaconda3\\lib\\site-packages (from requests<3.0.0dev,>=2.18.0->google-api-core!=2.0.*,!=2.1.*,!=2.2.*,!=2.3.0,<3.0.0dev,>=1.31.5->google-api-python-client) (2.0.4)\n",
      "Requirement already satisfied: certifi>=2017.4.17 in c:\\users\\katsuhiro\\anaconda3\\lib\\site-packages (from requests<3.0.0dev,>=2.18.0->google-api-core!=2.0.*,!=2.1.*,!=2.2.*,!=2.3.0,<3.0.0dev,>=1.31.5->google-api-python-client) (2021.10.8)\n",
      "Requirement already satisfied: urllib3<1.27,>=1.21.1 in c:\\users\\katsuhiro\\anaconda3\\lib\\site-packages (from requests<3.0.0dev,>=2.18.0->google-api-core!=2.0.*,!=2.1.*,!=2.2.*,!=2.3.0,<3.0.0dev,>=1.31.5->google-api-python-client) (1.26.7)\n",
      "Installing collected packages: httplib2, uritemplate, google-auth-httplib2, google-api-python-client\n",
      "Successfully installed google-api-python-client-2.56.0 google-auth-httplib2-0.1.0 httplib2-0.20.4 uritemplate-4.1.1\n"
     ]
    }
   ],
   "source": [
    "!pip install google-api-python-client"
   ]
  },
  {
   "cell_type": "code",
   "execution_count": null,
   "id": "88a0f88c",
   "metadata": {},
   "outputs": [],
   "source": [
    "\n",
    "DEVELOPER_KEY = \"REPLACE_ME\"\n",
    "YOUTUBE_API_SERVICE_NAME = \"youtube\"\n",
    "YOUTUBE_API_VERSION = \"v3\"\n",
    "\n",
    "#def youtube_search(options):\n",
    "youtube = build(YOUTUBE_API_SERVICE_NAME, YOUTUBE_API_VERSION,\n",
    "    developerKey=DEVELOPER_KEY)\n",
    "\n",
    "\n",
    "search_response = youtube.search().list(\n",
    "    q=options.q,\n",
    "    part=\"id,snippet\",\n",
    "    maxResults=options.max_results\n",
    ").execute()\n",
    "\n",
    "  "
   ]
  },
  {
   "cell_type": "code",
   "execution_count": 12,
   "id": "0a2e6cec",
   "metadata": {},
   "outputs": [],
   "source": [
    "from apiclient.discovery import build"
   ]
  },
  {
   "cell_type": "code",
   "execution_count": 16,
   "id": "55659b24",
   "metadata": {},
   "outputs": [],
   "source": [
    "import json \n",
    "with open('secret.json')as f:\n",
    "    secret = json.load(f)"
   ]
  },
  {
   "cell_type": "code",
   "execution_count": 34,
   "id": "d58f1614",
   "metadata": {},
   "outputs": [],
   "source": [
    "\n",
    "DEVELOPER_KEY = secret['KEY']\n",
    "YOUTUBE_API_SERVICE_NAME = \"youtube\"\n",
    "YOUTUBE_API_VERSION = \"v3\"\n",
    "\n",
    "\n",
    "youtube = build(YOUTUBE_API_SERVICE_NAME, YOUTUBE_API_VERSION,\n",
    "                developerKey=DEVELOPER_KEY)\n",
    "#qはqueryを意味する（検索ワード）\n",
    "q='Python 自動化'\n",
    "max_results=30\n",
    "\n",
    "response = youtube.search().list(\n",
    "    q=q,\n",
    "    part=\"id,snippet\",\n",
    "    order='viewCount',\n",
    "    type='video',\n",
    "    maxResults=max_results\n",
    ").execute()\n",
    "\n",
    "  "
   ]
  },
  {
   "cell_type": "code",
   "execution_count": 27,
   "id": "3220a659",
   "metadata": {},
   "outputs": [
    {
     "data": {
      "text/plain": [
       "{'kind': 'youtube#searchResult',\n",
       " 'etag': 'eINzWSXP4VvYJqMPiFQHxScHDKs',\n",
       " 'id': {'kind': 'youtube#video', 'videoId': 'bsq2YY-XAEo'},\n",
       " 'snippet': {'publishedAt': '2021-04-07T10:00:28Z',\n",
       "  'channelId': 'UC0xRMqPOyRNPTaL6BxhbCnQ',\n",
       "  'title': '【実演】めんどくさい業務をプログラミング（Python）で自動化する過程をお見せします',\n",
       "  'description': 'ビジネス戦闘力が圧倒的に向上するプログラミングスクール 『code4biz』  \\u200d   ↓説明会はこちら↓ http://code4biz.jp/ ※ 締切 ...',\n",
       "  'thumbnails': {'default': {'url': 'https://i.ytimg.com/vi/bsq2YY-XAEo/default.jpg',\n",
       "    'width': 120,\n",
       "    'height': 90},\n",
       "   'medium': {'url': 'https://i.ytimg.com/vi/bsq2YY-XAEo/mqdefault.jpg',\n",
       "    'width': 320,\n",
       "    'height': 180},\n",
       "   'high': {'url': 'https://i.ytimg.com/vi/bsq2YY-XAEo/hqdefault.jpg',\n",
       "    'width': 480,\n",
       "    'height': 360}},\n",
       "  'channelTitle': 'いまにゅのプログラミング塾',\n",
       "  'liveBroadcastContent': 'none',\n",
       "  'publishTime': '2021-04-07T10:00:28Z'}}"
      ]
     },
     "execution_count": 27,
     "metadata": {},
     "output_type": "execute_result"
    }
   ],
   "source": [
    "items=response['items']\n",
    "item=items[0]\n",
    "item"
   ]
  },
  {
   "cell_type": "code",
   "execution_count": 30,
   "id": "8225eb46",
   "metadata": {},
   "outputs": [],
   "source": [
    "video_id=item['id']['videoId']"
   ]
  },
  {
   "cell_type": "code",
   "execution_count": 32,
   "id": "85af82e6",
   "metadata": {},
   "outputs": [],
   "source": [
    "channel_id=item['snippet']['channelId']"
   ]
  },
  {
   "cell_type": "code",
   "execution_count": 37,
   "id": "b46c6caf",
   "metadata": {},
   "outputs": [],
   "source": [
    "import pandas as pd"
   ]
  },
  {
   "cell_type": "code",
   "execution_count": 38,
   "id": "2ba029da",
   "metadata": {},
   "outputs": [],
   "source": [
    "items_id=[]\n",
    "items=response['items']\n",
    "for item in items:\n",
    "    item_id={}\n",
    "    item_id['video_id']=item['id']['videoId']\n",
    "    item_id['channel_id']=item['snippet']['channelId']\n",
    "    items_id.append(item_id)\n",
    "\n",
    "df_video=pd.DataFrame(items_id)"
   ]
  },
  {
   "cell_type": "code",
   "execution_count": 40,
   "id": "cbe89a34",
   "metadata": {},
   "outputs": [
    {
     "data": {
      "text/html": [
       "<div>\n",
       "<style scoped>\n",
       "    .dataframe tbody tr th:only-of-type {\n",
       "        vertical-align: middle;\n",
       "    }\n",
       "\n",
       "    .dataframe tbody tr th {\n",
       "        vertical-align: top;\n",
       "    }\n",
       "\n",
       "    .dataframe thead th {\n",
       "        text-align: right;\n",
       "    }\n",
       "</style>\n",
       "<table border=\"1\" class=\"dataframe\">\n",
       "  <thead>\n",
       "    <tr style=\"text-align: right;\">\n",
       "      <th></th>\n",
       "      <th>video_id</th>\n",
       "      <th>channel_id</th>\n",
       "    </tr>\n",
       "  </thead>\n",
       "  <tbody>\n",
       "    <tr>\n",
       "      <th>0</th>\n",
       "      <td>bsq2YY-XAEo</td>\n",
       "      <td>UC0xRMqPOyRNPTaL6BxhbCnQ</td>\n",
       "    </tr>\n",
       "    <tr>\n",
       "      <th>1</th>\n",
       "      <td>-5v7CuXm7Ns</td>\n",
       "      <td>UCGlgXjYVoHLD86TQQ799WIw</td>\n",
       "    </tr>\n",
       "    <tr>\n",
       "      <th>2</th>\n",
       "      <td>vRFVS_FNLwY</td>\n",
       "      <td>UCwhKqH0jDKm5vPOZ7WQ2R1A</td>\n",
       "    </tr>\n",
       "    <tr>\n",
       "      <th>3</th>\n",
       "      <td>KmqEyT7HznQ</td>\n",
       "      <td>UC0xRMqPOyRNPTaL6BxhbCnQ</td>\n",
       "    </tr>\n",
       "    <tr>\n",
       "      <th>4</th>\n",
       "      <td>LgZ8Li97yoM</td>\n",
       "      <td>UCGlgXjYVoHLD86TQQ799WIw</td>\n",
       "    </tr>\n",
       "  </tbody>\n",
       "</table>\n",
       "</div>"
      ],
      "text/plain": [
       "      video_id                channel_id\n",
       "0  bsq2YY-XAEo  UC0xRMqPOyRNPTaL6BxhbCnQ\n",
       "1  -5v7CuXm7Ns  UCGlgXjYVoHLD86TQQ799WIw\n",
       "2  vRFVS_FNLwY  UCwhKqH0jDKm5vPOZ7WQ2R1A\n",
       "3  KmqEyT7HznQ  UC0xRMqPOyRNPTaL6BxhbCnQ\n",
       "4  LgZ8Li97yoM  UCGlgXjYVoHLD86TQQ799WIw"
      ]
     },
     "execution_count": 40,
     "metadata": {},
     "output_type": "execute_result"
    }
   ],
   "source": [
    "df_video.head()"
   ]
  },
  {
   "cell_type": "code",
   "execution_count": 44,
   "id": "7aebc789",
   "metadata": {},
   "outputs": [],
   "source": [
    "\n",
    "DEVELOPER_KEY = secret['KEY']\n",
    "YOUTUBE_API_SERVICE_NAME = \"youtube\"\n",
    "YOUTUBE_API_VERSION = \"v3\"\n",
    "\n",
    "youtube = build(YOUTUBE_API_SERVICE_NAME, YOUTUBE_API_VERSION,\n",
    "                developerKey=DEVELOPER_KEY)\n",
    "#qはqueryを意味する（検索ワード）\n",
    "\n",
    "def video_search(youtube,q='自動化',max_results=50):\n",
    "\n",
    "    response = youtube.search().list(\n",
    "        q=q,\n",
    "        part=\"id,snippet\",\n",
    "        order='viewCount',\n",
    "        type='video',\n",
    "        maxResults=max_results\n",
    "    ).execute()\n",
    "\n",
    "    items_id=[]\n",
    "    items=response['items']\n",
    "    for item in items:\n",
    "        item_id={}\n",
    "        item_id['video_id']=item['id']['videoId']\n",
    "        item_id['channel_id']=item['snippet']['channelId']\n",
    "        items_id.append(item_id)\n",
    "\n",
    "    df_video=pd.DataFrame(items_id)\n",
    "    return df_video"
   ]
  },
  {
   "cell_type": "code",
   "execution_count": 45,
   "id": "9cb5d1f2",
   "metadata": {},
   "outputs": [],
   "source": [
    "df_video=video_search(youtube,q='Python 自動化',max_results=50)"
   ]
  },
  {
   "cell_type": "code",
   "execution_count": 46,
   "id": "b490e86a",
   "metadata": {},
   "outputs": [
    {
     "data": {
      "text/html": [
       "<div>\n",
       "<style scoped>\n",
       "    .dataframe tbody tr th:only-of-type {\n",
       "        vertical-align: middle;\n",
       "    }\n",
       "\n",
       "    .dataframe tbody tr th {\n",
       "        vertical-align: top;\n",
       "    }\n",
       "\n",
       "    .dataframe thead th {\n",
       "        text-align: right;\n",
       "    }\n",
       "</style>\n",
       "<table border=\"1\" class=\"dataframe\">\n",
       "  <thead>\n",
       "    <tr style=\"text-align: right;\">\n",
       "      <th></th>\n",
       "      <th>video_id</th>\n",
       "      <th>channel_id</th>\n",
       "    </tr>\n",
       "  </thead>\n",
       "  <tbody>\n",
       "    <tr>\n",
       "      <th>0</th>\n",
       "      <td>bsq2YY-XAEo</td>\n",
       "      <td>UC0xRMqPOyRNPTaL6BxhbCnQ</td>\n",
       "    </tr>\n",
       "    <tr>\n",
       "      <th>1</th>\n",
       "      <td>s8XjEuplx_U</td>\n",
       "      <td>UC8butISFwT-Wl7EV0hUK0BQ</td>\n",
       "    </tr>\n",
       "    <tr>\n",
       "      <th>2</th>\n",
       "      <td>-5v7CuXm7Ns</td>\n",
       "      <td>UCGlgXjYVoHLD86TQQ799WIw</td>\n",
       "    </tr>\n",
       "    <tr>\n",
       "      <th>3</th>\n",
       "      <td>1Kcco6koC34</td>\n",
       "      <td>UCJHs6RO1CSM85e8jIMmCySw</td>\n",
       "    </tr>\n",
       "    <tr>\n",
       "      <th>4</th>\n",
       "      <td>f7LEWxX4AVI</td>\n",
       "      <td>UCXgGY0wkgOzynnHvSEVmE3A</td>\n",
       "    </tr>\n",
       "  </tbody>\n",
       "</table>\n",
       "</div>"
      ],
      "text/plain": [
       "      video_id                channel_id\n",
       "0  bsq2YY-XAEo  UC0xRMqPOyRNPTaL6BxhbCnQ\n",
       "1  s8XjEuplx_U  UC8butISFwT-Wl7EV0hUK0BQ\n",
       "2  -5v7CuXm7Ns  UCGlgXjYVoHLD86TQQ799WIw\n",
       "3  1Kcco6koC34  UCJHs6RO1CSM85e8jIMmCySw\n",
       "4  f7LEWxX4AVI  UCXgGY0wkgOzynnHvSEVmE3A"
      ]
     },
     "execution_count": 46,
     "metadata": {},
     "output_type": "execute_result"
    }
   ],
   "source": [
    "df_video.head()"
   ]
  },
  {
   "cell_type": "code",
   "execution_count": 50,
   "id": "f4fdf534",
   "metadata": {},
   "outputs": [
    {
     "data": {
      "text/plain": [
       "['UC0xRMqPOyRNPTaL6BxhbCnQ',\n",
       " 'UC8butISFwT-Wl7EV0hUK0BQ',\n",
       " 'UCGlgXjYVoHLD86TQQ799WIw']"
      ]
     },
     "execution_count": 50,
     "metadata": {},
     "output_type": "execute_result"
    }
   ],
   "source": [
    "channel_ids=df_video['channel_id'].unique().tolist()\n",
    "channel_ids[:3]"
   ]
  },
  {
   "cell_type": "code",
   "execution_count": 53,
   "id": "778c9484",
   "metadata": {},
   "outputs": [],
   "source": [
    "subscriber_list = youtube.channels().list(\n",
    "    id=','.join(channel_ids),\n",
    "    part=\"statistics\",\n",
    "    fields='items(id,statistics(subscriberCount))'\n",
    ").execute()"
   ]
  },
  {
   "cell_type": "code",
   "execution_count": 54,
   "id": "6bb41b34",
   "metadata": {},
   "outputs": [
    {
     "data": {
      "text/plain": [
       "[{'id': 'UCXjTiSGclQLVVU83GVrRM4w',\n",
       "  'statistics': {'subscriberCount': '1460000'}},\n",
       " {'id': 'UCMMjv61LfBy5J3AT8Ua0NGQ',\n",
       "  'statistics': {'subscriberCount': '142000'}},\n",
       " {'id': 'UC0xRMqPOyRNPTaL6BxhbCnQ',\n",
       "  'statistics': {'subscriberCount': '119000'}}]"
      ]
     },
     "execution_count": 54,
     "metadata": {},
     "output_type": "execute_result"
    }
   ],
   "source": [
    "subscriber_list['items'][:3]"
   ]
  },
  {
   "cell_type": "code",
   "execution_count": 71,
   "id": "08b08523",
   "metadata": {},
   "outputs": [],
   "source": [
    "subscribers=[]\n",
    "for item in subscriber_list['items']:\n",
    "    subscriber={}\n",
    "    subscriber['channel_id'] = item['id']\n",
    "    subscriber['subscriber_count'] = int(item['statistics']['subscriberCount'])\n",
    "    subscribers.append(subscriber)\n",
    "df_subscribers=pd.DataFrame(subscribers)"
   ]
  },
  {
   "cell_type": "code",
   "execution_count": 72,
   "id": "d485fac6",
   "metadata": {},
   "outputs": [
    {
     "data": {
      "text/html": [
       "<div>\n",
       "<style scoped>\n",
       "    .dataframe tbody tr th:only-of-type {\n",
       "        vertical-align: middle;\n",
       "    }\n",
       "\n",
       "    .dataframe tbody tr th {\n",
       "        vertical-align: top;\n",
       "    }\n",
       "\n",
       "    .dataframe thead th {\n",
       "        text-align: right;\n",
       "    }\n",
       "</style>\n",
       "<table border=\"1\" class=\"dataframe\">\n",
       "  <thead>\n",
       "    <tr style=\"text-align: right;\">\n",
       "      <th></th>\n",
       "      <th>channel_id</th>\n",
       "      <th>subscriber_count</th>\n",
       "    </tr>\n",
       "  </thead>\n",
       "  <tbody>\n",
       "    <tr>\n",
       "      <th>0</th>\n",
       "      <td>UCXjTiSGclQLVVU83GVrRM4w</td>\n",
       "      <td>1460000</td>\n",
       "    </tr>\n",
       "    <tr>\n",
       "      <th>1</th>\n",
       "      <td>UCMMjv61LfBy5J3AT8Ua0NGQ</td>\n",
       "      <td>142000</td>\n",
       "    </tr>\n",
       "    <tr>\n",
       "      <th>2</th>\n",
       "      <td>UC0xRMqPOyRNPTaL6BxhbCnQ</td>\n",
       "      <td>119000</td>\n",
       "    </tr>\n",
       "    <tr>\n",
       "      <th>3</th>\n",
       "      <td>UCXgGY0wkgOzynnHvSEVmE3A</td>\n",
       "      <td>729000</td>\n",
       "    </tr>\n",
       "    <tr>\n",
       "      <th>4</th>\n",
       "      <td>UCNste53_VRtP6MGUfitOYQA</td>\n",
       "      <td>6070</td>\n",
       "    </tr>\n",
       "  </tbody>\n",
       "</table>\n",
       "</div>"
      ],
      "text/plain": [
       "                 channel_id  subscriber_count\n",
       "0  UCXjTiSGclQLVVU83GVrRM4w           1460000\n",
       "1  UCMMjv61LfBy5J3AT8Ua0NGQ            142000\n",
       "2  UC0xRMqPOyRNPTaL6BxhbCnQ            119000\n",
       "3  UCXgGY0wkgOzynnHvSEVmE3A            729000\n",
       "4  UCNste53_VRtP6MGUfitOYQA              6070"
      ]
     },
     "execution_count": 72,
     "metadata": {},
     "output_type": "execute_result"
    }
   ],
   "source": [
    "df_subscribers.head()"
   ]
  },
  {
   "cell_type": "code",
   "execution_count": 73,
   "id": "38121987",
   "metadata": {},
   "outputs": [],
   "source": [
    "df = pd.merge(left=df_video,right=df_subscribers,on='channel_id')"
   ]
  },
  {
   "cell_type": "code",
   "execution_count": 74,
   "id": "a612b391",
   "metadata": {},
   "outputs": [
    {
     "data": {
      "text/html": [
       "<div>\n",
       "<style scoped>\n",
       "    .dataframe tbody tr th:only-of-type {\n",
       "        vertical-align: middle;\n",
       "    }\n",
       "\n",
       "    .dataframe tbody tr th {\n",
       "        vertical-align: top;\n",
       "    }\n",
       "\n",
       "    .dataframe thead th {\n",
       "        text-align: right;\n",
       "    }\n",
       "</style>\n",
       "<table border=\"1\" class=\"dataframe\">\n",
       "  <thead>\n",
       "    <tr style=\"text-align: right;\">\n",
       "      <th></th>\n",
       "      <th>video_id</th>\n",
       "      <th>channel_id</th>\n",
       "      <th>subscriber_count</th>\n",
       "    </tr>\n",
       "  </thead>\n",
       "  <tbody>\n",
       "    <tr>\n",
       "      <th>0</th>\n",
       "      <td>bsq2YY-XAEo</td>\n",
       "      <td>UC0xRMqPOyRNPTaL6BxhbCnQ</td>\n",
       "      <td>119000</td>\n",
       "    </tr>\n",
       "    <tr>\n",
       "      <th>1</th>\n",
       "      <td>KmqEyT7HznQ</td>\n",
       "      <td>UC0xRMqPOyRNPTaL6BxhbCnQ</td>\n",
       "      <td>119000</td>\n",
       "    </tr>\n",
       "    <tr>\n",
       "      <th>2</th>\n",
       "      <td>VRFfAeW30qE</td>\n",
       "      <td>UC0xRMqPOyRNPTaL6BxhbCnQ</td>\n",
       "      <td>119000</td>\n",
       "    </tr>\n",
       "    <tr>\n",
       "      <th>3</th>\n",
       "      <td>zmrbS98KXyo</td>\n",
       "      <td>UC0xRMqPOyRNPTaL6BxhbCnQ</td>\n",
       "      <td>119000</td>\n",
       "    </tr>\n",
       "    <tr>\n",
       "      <th>4</th>\n",
       "      <td>Fef4GAYq9VA</td>\n",
       "      <td>UC0xRMqPOyRNPTaL6BxhbCnQ</td>\n",
       "      <td>119000</td>\n",
       "    </tr>\n",
       "  </tbody>\n",
       "</table>\n",
       "</div>"
      ],
      "text/plain": [
       "      video_id                channel_id  subscriber_count\n",
       "0  bsq2YY-XAEo  UC0xRMqPOyRNPTaL6BxhbCnQ            119000\n",
       "1  KmqEyT7HznQ  UC0xRMqPOyRNPTaL6BxhbCnQ            119000\n",
       "2  VRFfAeW30qE  UC0xRMqPOyRNPTaL6BxhbCnQ            119000\n",
       "3  zmrbS98KXyo  UC0xRMqPOyRNPTaL6BxhbCnQ            119000\n",
       "4  Fef4GAYq9VA  UC0xRMqPOyRNPTaL6BxhbCnQ            119000"
      ]
     },
     "execution_count": 74,
     "metadata": {},
     "output_type": "execute_result"
    }
   ],
   "source": [
    "df.head()"
   ]
  },
  {
   "cell_type": "code",
   "execution_count": 78,
   "id": "ea684b94",
   "metadata": {},
   "outputs": [],
   "source": [
    "df_extracted=df[df['subscriber_count']<10000]"
   ]
  },
  {
   "cell_type": "code",
   "execution_count": 79,
   "id": "36f5c663",
   "metadata": {},
   "outputs": [
    {
     "data": {
      "text/html": [
       "<div>\n",
       "<style scoped>\n",
       "    .dataframe tbody tr th:only-of-type {\n",
       "        vertical-align: middle;\n",
       "    }\n",
       "\n",
       "    .dataframe tbody tr th {\n",
       "        vertical-align: top;\n",
       "    }\n",
       "\n",
       "    .dataframe thead th {\n",
       "        text-align: right;\n",
       "    }\n",
       "</style>\n",
       "<table border=\"1\" class=\"dataframe\">\n",
       "  <thead>\n",
       "    <tr style=\"text-align: right;\">\n",
       "      <th></th>\n",
       "      <th>video_id</th>\n",
       "      <th>channel_id</th>\n",
       "      <th>subscriber_count</th>\n",
       "    </tr>\n",
       "  </thead>\n",
       "  <tbody>\n",
       "    <tr>\n",
       "      <th>36</th>\n",
       "      <td>YwIX8w9i2DM</td>\n",
       "      <td>UCbg0ptFI3yZ4Pe5vmUiEzzA</td>\n",
       "      <td>7160</td>\n",
       "    </tr>\n",
       "    <tr>\n",
       "      <th>42</th>\n",
       "      <td>SPf_nINsCfw</td>\n",
       "      <td>UCGFxqqRaM97VjM5ToRfkoFg</td>\n",
       "      <td>6610</td>\n",
       "    </tr>\n",
       "    <tr>\n",
       "      <th>45</th>\n",
       "      <td>mWPI8vI2scQ</td>\n",
       "      <td>UCkyrFlOF7I6U-IMUxum9HrA</td>\n",
       "      <td>5980</td>\n",
       "    </tr>\n",
       "    <tr>\n",
       "      <th>46</th>\n",
       "      <td>nCfAtMooIQQ</td>\n",
       "      <td>UCNste53_VRtP6MGUfitOYQA</td>\n",
       "      <td>6070</td>\n",
       "    </tr>\n",
       "  </tbody>\n",
       "</table>\n",
       "</div>"
      ],
      "text/plain": [
       "       video_id                channel_id  subscriber_count\n",
       "36  YwIX8w9i2DM  UCbg0ptFI3yZ4Pe5vmUiEzzA              7160\n",
       "42  SPf_nINsCfw  UCGFxqqRaM97VjM5ToRfkoFg              6610\n",
       "45  mWPI8vI2scQ  UCkyrFlOF7I6U-IMUxum9HrA              5980\n",
       "46  nCfAtMooIQQ  UCNste53_VRtP6MGUfitOYQA              6070"
      ]
     },
     "execution_count": 79,
     "metadata": {},
     "output_type": "execute_result"
    }
   ],
   "source": [
    "df_extracted"
   ]
  },
  {
   "cell_type": "code",
   "execution_count": 83,
   "id": "12bad624",
   "metadata": {},
   "outputs": [],
   "source": [
    "video_ids=df_extracted['video_id'].tolist()"
   ]
  },
  {
   "cell_type": "code",
   "execution_count": 84,
   "id": "68715915",
   "metadata": {},
   "outputs": [],
   "source": [
    "videos_list = youtube.videos().list(\n",
    "    id=','.join(video_ids),\n",
    "    part=\"snippet,statistics\",\n",
    "    fields='items(id,snippet(title),statistics(viewCount))'\n",
    ").execute()"
   ]
  },
  {
   "cell_type": "code",
   "execution_count": 86,
   "id": "8d897334",
   "metadata": {},
   "outputs": [
    {
     "data": {
      "text/plain": [
       "[{'id': 'YwIX8w9i2DM',\n",
       "  'snippet': {'title': 'Automate Excel with Python Tutorial (2020)'},\n",
       "  'statistics': {'viewCount': '263637'}},\n",
       " {'id': 'SPf_nINsCfw',\n",
       "  'snippet': {'title': 'Pythonで業務自動化(Excel,Outlook等)したいならこの本で決定'},\n",
       "  'statistics': {'viewCount': '76930'}},\n",
       " {'id': 'mWPI8vI2scQ',\n",
       "  'snippet': {'title': '[效率提升] 3分钟做完一天的工作?普通人也可以轻松学会的自动化办公技巧'},\n",
       "  'statistics': {'viewCount': '43559'}}]"
      ]
     },
     "execution_count": 86,
     "metadata": {},
     "output_type": "execute_result"
    }
   ],
   "source": [
    "videos_list['items'][:3]"
   ]
  },
  {
   "cell_type": "code",
   "execution_count": 90,
   "id": "296a56c6",
   "metadata": {},
   "outputs": [],
   "source": [
    "videos_info=[]\n",
    "items=videos_list['items']\n",
    "for item in items:\n",
    "    video_info={}\n",
    "    video_info['video_id']=item['id']\n",
    "    video_info['title']=item['snippet']['title']\n",
    "    video_info['view_count']=item['statistics']['viewCount']\n",
    "    videos_info.append(video_info)\n",
    "df_videos_info=pd.DataFrame(videos_info)"
   ]
  },
  {
   "cell_type": "code",
   "execution_count": 91,
   "id": "8c9de4e0",
   "metadata": {},
   "outputs": [
    {
     "data": {
      "text/html": [
       "<div>\n",
       "<style scoped>\n",
       "    .dataframe tbody tr th:only-of-type {\n",
       "        vertical-align: middle;\n",
       "    }\n",
       "\n",
       "    .dataframe tbody tr th {\n",
       "        vertical-align: top;\n",
       "    }\n",
       "\n",
       "    .dataframe thead th {\n",
       "        text-align: right;\n",
       "    }\n",
       "</style>\n",
       "<table border=\"1\" class=\"dataframe\">\n",
       "  <thead>\n",
       "    <tr style=\"text-align: right;\">\n",
       "      <th></th>\n",
       "      <th>video_id</th>\n",
       "      <th>title</th>\n",
       "      <th>view_count</th>\n",
       "    </tr>\n",
       "  </thead>\n",
       "  <tbody>\n",
       "    <tr>\n",
       "      <th>0</th>\n",
       "      <td>YwIX8w9i2DM</td>\n",
       "      <td>Automate Excel with Python Tutorial (2020)</td>\n",
       "      <td>263637</td>\n",
       "    </tr>\n",
       "    <tr>\n",
       "      <th>1</th>\n",
       "      <td>SPf_nINsCfw</td>\n",
       "      <td>Pythonで業務自動化(Excel,Outlook等)したいならこの本で決定</td>\n",
       "      <td>76930</td>\n",
       "    </tr>\n",
       "    <tr>\n",
       "      <th>2</th>\n",
       "      <td>mWPI8vI2scQ</td>\n",
       "      <td>[效率提升] 3分钟做完一天的工作?普通人也可以轻松学会的自动化办公技巧</td>\n",
       "      <td>43559</td>\n",
       "    </tr>\n",
       "    <tr>\n",
       "      <th>3</th>\n",
       "      <td>nCfAtMooIQQ</td>\n",
       "      <td>その面倒な作業、自動化してみない？【Pythonで自動化のすすめ】</td>\n",
       "      <td>38889</td>\n",
       "    </tr>\n",
       "  </tbody>\n",
       "</table>\n",
       "</div>"
      ],
      "text/plain": [
       "      video_id                                       title view_count\n",
       "0  YwIX8w9i2DM  Automate Excel with Python Tutorial (2020)     263637\n",
       "1  SPf_nINsCfw     Pythonで業務自動化(Excel,Outlook等)したいならこの本で決定      76930\n",
       "2  mWPI8vI2scQ        [效率提升] 3分钟做完一天的工作?普通人也可以轻松学会的自动化办公技巧      43559\n",
       "3  nCfAtMooIQQ           その面倒な作業、自動化してみない？【Pythonで自動化のすすめ】      38889"
      ]
     },
     "execution_count": 91,
     "metadata": {},
     "output_type": "execute_result"
    }
   ],
   "source": [
    "df_videos_info"
   ]
  },
  {
   "cell_type": "code",
   "execution_count": 93,
   "id": "e6690402",
   "metadata": {},
   "outputs": [
    {
     "data": {
      "text/html": [
       "<div>\n",
       "<style scoped>\n",
       "    .dataframe tbody tr th:only-of-type {\n",
       "        vertical-align: middle;\n",
       "    }\n",
       "\n",
       "    .dataframe tbody tr th {\n",
       "        vertical-align: top;\n",
       "    }\n",
       "\n",
       "    .dataframe thead th {\n",
       "        text-align: right;\n",
       "    }\n",
       "</style>\n",
       "<table border=\"1\" class=\"dataframe\">\n",
       "  <thead>\n",
       "    <tr style=\"text-align: right;\">\n",
       "      <th></th>\n",
       "      <th>video_id</th>\n",
       "      <th>channel_id</th>\n",
       "      <th>subscriber_count</th>\n",
       "    </tr>\n",
       "  </thead>\n",
       "  <tbody>\n",
       "    <tr>\n",
       "      <th>36</th>\n",
       "      <td>YwIX8w9i2DM</td>\n",
       "      <td>UCbg0ptFI3yZ4Pe5vmUiEzzA</td>\n",
       "      <td>7160</td>\n",
       "    </tr>\n",
       "    <tr>\n",
       "      <th>42</th>\n",
       "      <td>SPf_nINsCfw</td>\n",
       "      <td>UCGFxqqRaM97VjM5ToRfkoFg</td>\n",
       "      <td>6610</td>\n",
       "    </tr>\n",
       "    <tr>\n",
       "      <th>45</th>\n",
       "      <td>mWPI8vI2scQ</td>\n",
       "      <td>UCkyrFlOF7I6U-IMUxum9HrA</td>\n",
       "      <td>5980</td>\n",
       "    </tr>\n",
       "    <tr>\n",
       "      <th>46</th>\n",
       "      <td>nCfAtMooIQQ</td>\n",
       "      <td>UCNste53_VRtP6MGUfitOYQA</td>\n",
       "      <td>6070</td>\n",
       "    </tr>\n",
       "  </tbody>\n",
       "</table>\n",
       "</div>"
      ],
      "text/plain": [
       "       video_id                channel_id  subscriber_count\n",
       "36  YwIX8w9i2DM  UCbg0ptFI3yZ4Pe5vmUiEzzA              7160\n",
       "42  SPf_nINsCfw  UCGFxqqRaM97VjM5ToRfkoFg              6610\n",
       "45  mWPI8vI2scQ  UCkyrFlOF7I6U-IMUxum9HrA              5980\n",
       "46  nCfAtMooIQQ  UCNste53_VRtP6MGUfitOYQA              6070"
      ]
     },
     "execution_count": 93,
     "metadata": {},
     "output_type": "execute_result"
    }
   ],
   "source": [
    "df_extracted"
   ]
  },
  {
   "cell_type": "code",
   "execution_count": 101,
   "id": "e67d17b0",
   "metadata": {},
   "outputs": [],
   "source": [
    "results=pd.merge(left=df_extracted,right=df_videos_info,on='video_id')"
   ]
  },
  {
   "cell_type": "code",
   "execution_count": 102,
   "id": "fb122c45",
   "metadata": {},
   "outputs": [],
   "source": [
    "a=results.loc[:,['video_id','title','view_count','subscriber_count','channel_id']]"
   ]
  },
  {
   "cell_type": "code",
   "execution_count": 107,
   "id": "a874726c",
   "metadata": {},
   "outputs": [],
   "source": [
    "\n",
    "\n",
    "def get_results(df_video,threshold=1000):\n",
    "\n",
    "    channel_ids=df_video['channel_id'].unique().tolist()\n",
    "    subscriber_list = youtube.channels().list(\n",
    "        id=','.join(channel_ids),\n",
    "        part=\"statistics\",\n",
    "        fields='items(id,statistics(subscriberCount))'\n",
    "    ).execute()\n",
    "    \n",
    "    subscribers=[]\n",
    "    for item in subscriber_list['items']:\n",
    "        subscriber={}\n",
    "        if len(item['statistics']) > 0:\n",
    "            subscriber['channel_id'] = item['id']\n",
    "            subscriber['subscriber_count'] = int(item['statistics']['subscriberCount'])\n",
    "        else:\n",
    "            subscriber['channel_id'] = item['id']\n",
    "        subscribers.append(subscriber)\n",
    "            \n",
    "    df_subscribers=pd.DataFrame(subscribers)\n",
    "    df = pd.merge(left=df_video,right=df_subscribers,on='channel_id')\n",
    "    df_extracted=df[df['subscriber_count']<threshold]\n",
    "    video_ids=df_extracted['video_id'].tolist()\n",
    "    videos_list = youtube.videos().list(\n",
    "        id=','.join(video_ids),\n",
    "        part=\"snippet,statistics\",\n",
    "        fields='items(id,snippet(title),statistics(viewCount))'\n",
    "    ).execute()\n",
    "    \n",
    "    videos_info=[]\n",
    "    items=videos_list['items']\n",
    "    for item in items:\n",
    "        video_info={}\n",
    "        video_info['video_id']=item['id']\n",
    "        video_info['title']=item['snippet']['title']\n",
    "        video_info['view_count']=item['statistics']['viewCount']\n",
    "        videos_info.append(video_info)\n",
    "    df_videos_info=pd.DataFrame(videos_info)\n",
    "    results=pd.merge(left=df_extracted,right=df_videos_info,on='video_id')\n",
    "    results=results.loc[:,['video_id','title','view_count','subscriber_count','channel_id']]\n",
    "    return results"
   ]
  },
  {
   "cell_type": "code",
   "execution_count": 109,
   "id": "edb9cbed",
   "metadata": {},
   "outputs": [],
   "source": [
    "df_video=video_search(youtube,q='Python 自動化',max_results=50)\n",
    "results=get_results(df_video,threshold=10000)"
   ]
  },
  {
   "cell_type": "code",
   "execution_count": 110,
   "id": "609fc6e3",
   "metadata": {},
   "outputs": [
    {
     "data": {
      "text/html": [
       "<div>\n",
       "<style scoped>\n",
       "    .dataframe tbody tr th:only-of-type {\n",
       "        vertical-align: middle;\n",
       "    }\n",
       "\n",
       "    .dataframe tbody tr th {\n",
       "        vertical-align: top;\n",
       "    }\n",
       "\n",
       "    .dataframe thead th {\n",
       "        text-align: right;\n",
       "    }\n",
       "</style>\n",
       "<table border=\"1\" class=\"dataframe\">\n",
       "  <thead>\n",
       "    <tr style=\"text-align: right;\">\n",
       "      <th></th>\n",
       "      <th>video_id</th>\n",
       "      <th>title</th>\n",
       "      <th>view_count</th>\n",
       "      <th>subscriber_count</th>\n",
       "      <th>channel_id</th>\n",
       "    </tr>\n",
       "  </thead>\n",
       "  <tbody>\n",
       "    <tr>\n",
       "      <th>0</th>\n",
       "      <td>YwIX8w9i2DM</td>\n",
       "      <td>Automate Excel with Python Tutorial (2020)</td>\n",
       "      <td>263639</td>\n",
       "      <td>7160</td>\n",
       "      <td>UCbg0ptFI3yZ4Pe5vmUiEzzA</td>\n",
       "    </tr>\n",
       "    <tr>\n",
       "      <th>1</th>\n",
       "      <td>SPf_nINsCfw</td>\n",
       "      <td>Pythonで業務自動化(Excel,Outlook等)したいならこの本で決定</td>\n",
       "      <td>76930</td>\n",
       "      <td>6610</td>\n",
       "      <td>UCGFxqqRaM97VjM5ToRfkoFg</td>\n",
       "    </tr>\n",
       "    <tr>\n",
       "      <th>2</th>\n",
       "      <td>mWPI8vI2scQ</td>\n",
       "      <td>[效率提升] 3分钟做完一天的工作?普通人也可以轻松学会的自动化办公技巧</td>\n",
       "      <td>43560</td>\n",
       "      <td>5980</td>\n",
       "      <td>UCkyrFlOF7I6U-IMUxum9HrA</td>\n",
       "    </tr>\n",
       "  </tbody>\n",
       "</table>\n",
       "</div>"
      ],
      "text/plain": [
       "      video_id                                       title view_count  \\\n",
       "0  YwIX8w9i2DM  Automate Excel with Python Tutorial (2020)     263639   \n",
       "1  SPf_nINsCfw     Pythonで業務自動化(Excel,Outlook等)したいならこの本で決定      76930   \n",
       "2  mWPI8vI2scQ        [效率提升] 3分钟做完一天的工作?普通人也可以轻松学会的自动化办公技巧      43560   \n",
       "\n",
       "   subscriber_count                channel_id  \n",
       "0              7160  UCbg0ptFI3yZ4Pe5vmUiEzzA  \n",
       "1              6610  UCGFxqqRaM97VjM5ToRfkoFg  \n",
       "2              5980  UCkyrFlOF7I6U-IMUxum9HrA  "
      ]
     },
     "execution_count": 110,
     "metadata": {},
     "output_type": "execute_result"
    }
   ],
   "source": [
    "results[:3]"
   ]
  },
  {
   "cell_type": "code",
   "execution_count": null,
   "id": "de57f89b",
   "metadata": {},
   "outputs": [],
   "source": []
  }
 ],
 "metadata": {
  "kernelspec": {
   "display_name": "Python 3.9.7 ('base')",
   "language": "python",
   "name": "python3"
  },
  "language_info": {
   "codemirror_mode": {
    "name": "ipython",
    "version": 3
   },
   "file_extension": ".py",
   "mimetype": "text/x-python",
   "name": "python",
   "nbconvert_exporter": "python",
   "pygments_lexer": "ipython3",
   "version": "3.9.7"
  },
  "vscode": {
   "interpreter": {
    "hash": "9ad933aaa5538615f6ede5103fff9ef09aa7a5f30f18aba79e5a81ba0f812d50"
   }
  }
 },
 "nbformat": 4,
 "nbformat_minor": 5
}
